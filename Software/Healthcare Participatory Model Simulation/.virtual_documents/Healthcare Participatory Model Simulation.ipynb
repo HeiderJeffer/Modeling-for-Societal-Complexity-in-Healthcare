


# Healthcare Participatory Model Simulation
# Developed using Python by Heider Jeffer


import numpy as np
import pandas as pd
import matplotlib.pyplot as plt
import seaborn as sns

# Define a list of healthcare stakeholders and their engagement levels
stakeholders = ['Patients', 'Doctors', 'Nurses', 'Administrators']
engagement_levels = {
    'Patients': 0.6,       # e.g., 60% engaged
    'Doctors': 0.8,        # e.g., 80% engaged
    'Nurses': 0.75,        # e.g., 75% engaged
    'Administrators': 0.5  # e.g., 50% engaged
}

# Function to simulate and visualize stakeholder engagement over time
def simulate_stakeholder_engagement(initial_engagement, months=12, fluctuation=0.05):
    """Simulate the engagement levels of stakeholders over time."""
    engagement_over_time = {}
    for stakeholder, base_engagement in initial_engagement.items():
        monthly_engagement = [base_engagement]  # Start with the base engagement level
        for _ in range(1, months):
            # Simulate fluctuations in engagement levels due to external factors
            change = np.random.uniform(-fluctuation, fluctuation)
            new_engagement = max(0, min(1, monthly_engagement[-1] + change))
            monthly_engagement.append(new_engagement)
        engagement_over_time[stakeholder] = monthly_engagement
    return engagement_over_time

# Simulate engagement levels for 12 months
engagement_data = simulate_stakeholder_engagement(engagement_levels)

# Convert to DataFrame for analysis
df_engagement = pd.DataFrame(engagement_data)
df_engagement['Month'] = np.arange(1, 13)
df_engagement = df_engagement.melt(id_vars='Month', var_name='Stakeholder', value_name='Engagement')

# Visualization of Stakeholder Engagement Over Time
plt.figure(figsize=(10, 6))
sns.lineplot(data=df_engagement, x='Month', y='Engagement', hue='Stakeholder', marker="o")
plt.title("Stakeholder Engagement Levels Over 12 Months")
plt.xlabel("Month")
plt.ylabel("Engagement Level")
plt.ylim(0, 1)
plt.legend(title="Stakeholders")
plt.show()

# Analyzing Average Engagement Levels
average_engagement = df_engagement.groupby('Stakeholder')['Engagement'].mean()
print("Average Engagement Levels by Stakeholder:")
print(average_engagement)

# System Dynamics Simulation: Impact of Engagement on Model Uptake Rate
# Assuming higher engagement results in increased uptake
def model_uptake_rate(engagement_dict):
    """Estimate uptake rate based on engagement levels."""
    uptake_rate = sum(engagement_dict.values()) / len(engagement_dict)
    return round(uptake_rate, 2)

# Calculate uptake rate over 12 months and simulate feedback loop for policy-making insights
monthly_uptake_rates = [model_uptake_rate(engagement_levels)]
for month in range(1, 12):
    updated_engagement = {k: v + np.random.uniform(-0.02, 0.02) for k, v in engagement_levels.items()}
    monthly_uptake_rates.append(model_uptake_rate(updated_engagement))

# Visualize the model uptake rates over time
plt.figure(figsize=(10, 6))
plt.plot(np.arange(1, 13), monthly_uptake_rates, marker="o", color='blue')
plt.title("Estimated Model Uptake Rate Over 12 Months")
plt.xlabel("Month")
plt.ylabel("Uptake Rate")
plt.ylim(0, 1)
plt.grid()
plt.show()




# Here's a statistical distribution plot that shows the simulated engagement levels of
# different stakeholders over a 12-month period. The histogram with KDE (kernel density estimate)
# lines provides insight into the distribution and frequency of engagement levels
# for each stakeholder group (patients, doctors, nurses, and administrators).
# This distribution can help identify patterns, like whether certain stakeholders
# have more stable engagement levels or if any group shows significant fluctuations,
# indicating areas where targeted strategies could improve participation


import numpy as np
import pandas as pd
import matplotlib.pyplot as plt
import seaborn as sns

# Define stakeholder engagement levels over time
stakeholders = ['Patients', 'Doctors', 'Nurses', 'Administrators']
engagement_levels = {
    'Patients': 0.6,
    'Doctors': 0.8,
    'Nurses': 0.75,
    'Administrators': 0.5
}

# Function to simulate stakeholder engagement over 12 months with fluctuations
def simulate_stakeholder_engagement(initial_engagement, months=12, fluctuation=0.05):
    engagement_over_time = {}
    for stakeholder, base_engagement in initial_engagement.items():
        monthly_engagement = [base_engagement]
        for _ in range(1, months):
            change = np.random.uniform(-fluctuation, fluctuation)
            new_engagement = max(0, min(1, monthly_engagement[-1] + change))
            monthly_engagement.append(new_engagement)
        engagement_over_time[stakeholder] = monthly_engagement
    return engagement_over_time

# Simulate engagement levels for 12 months
engagement_data = simulate_stakeholder_engagement(engagement_levels)

# Convert to DataFrame for analysis
df_engagement = pd.DataFrame(engagement_data)
df_engagement['Month'] = np.arange(1, 13)
df_engagement = df_engagement.melt(id_vars='Month', var_name='Stakeholder', value_name='Engagement')

# Plot distribution of engagement levels for each stakeholder
plt.figure(figsize=(12, 8))
sns.histplot(df_engagement, x='Engagement', hue='Stakeholder', kde=True, bins=10, element="step", palette="tab10")
plt.title("Statistical Distribution of Engagement Levels by Stakeholder Over 12 Months")
plt.xlabel("Engagement Level")
plt.ylabel("Frequency")
plt.legend(title="Stakeholders")
plt.grid(True)
plt.show()



# Plot with explanation and annotations
plt.figure(figsize=(12, 8))
sns.histplot(df_engagement, x='Engagement', hue='Stakeholder', kde=True, bins=10, element="step", palette="tab10")

# Titles and labels with more explanation
plt.title("Distribution of Stakeholder Engagement Levels Over 12 Months", fontsize=16)
plt.xlabel("Engagement Level (0 to 1 scale)", fontsize=14)
plt.ylabel("Frequency of Engagement Level Observations", fontsize=14)

# Adding detailed explanation on plot
plt.text(0.6, 7, "Doctors and Nurses generally show higher engagement\n levels across months with occasional fluctuations.", color="blue", fontsize=12)
plt.text(0.2, 3, "Administrators have lower overall engagement levels.\n Their fluctuations suggest variability in participation.", color="green", fontsize=12)
plt.text(0.75, 4, "Patient engagement levels tend to be moderate,\n fluctuating around 0.5 to 0.7.", color="orange", fontsize=12)

# Legend and grid
plt.legend(title="Stakeholders", fontsize=12)
plt.grid(True)

plt.show()



# Plot with detailed explanation and color descriptions
plt.figure(figsize=(12, 8))
sns.histplot(df_engagement, x='Engagement', hue='Stakeholder', kde=True, bins=10, element="step", palette="tab10")

# Titles and labels with more explanation
plt.title("Distribution of Stakeholder Engagement Levels Over 12 Months", fontsize=16)
plt.xlabel("Engagement Level (0 to 1 scale)", fontsize=14)
plt.ylabel("Frequency of Engagement Level Observations", fontsize=14)

# Adding detailed color explanations
plt.text(0.6, 6.5, "Blue (Doctors): High, stable engagement with minimal fluctuations.", color="blue", fontsize=12)
plt.text(0.2, 3.5, "Green (Administrators): Lower engagement with more variability,\n indicating fluctuating involvement.", color="green", fontsize=12)
plt.text(0.75, 3.5, "Orange (Patients): Moderate engagement, primarily between 0.5 to 0.7.", color="orange", fontsize=12)
plt.text(0.6, 2, "Red (Nurses): Similar to Doctors, showing high engagement\n with slight fluctuations.", color="red", fontsize=12)

# Legend and grid
plt.legend(title="Stakeholders", fontsize=12)
plt.grid(True)

plt.show()

